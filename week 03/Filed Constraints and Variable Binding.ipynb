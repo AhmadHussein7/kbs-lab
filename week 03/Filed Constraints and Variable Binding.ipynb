{
 "cells": [
  {
   "cell_type": "markdown",
   "metadata": {},
   "source": [
    "## Filed Constraints"
   ]
  },
  {
   "cell_type": "markdown",
   "metadata": {},
   "source": [
    "#### L (Literal Field Constraint):"
   ]
  },
  {
   "cell_type": "markdown",
   "metadata": {},
   "source": [
    "This element performs an exact match with the given value. The matching is done using the equality operator ==."
   ]
  },
  {
   "cell_type": "code",
   "execution_count": 3,
   "metadata": {},
   "outputs": [],
   "source": [
    "from experta import *"
   ]
  },
  {
   "cell_type": "code",
   "execution_count": 44,
   "metadata": {},
   "outputs": [],
   "source": [
    "class Engine_L(KnowledgeEngine):\n",
    "    @DefFacts()\n",
    "    def _init(self):\n",
    "        yield Fact(3,4)\n",
    "        \n",
    "        \n",
    "    @Rule(Fact(L(3)))\n",
    "    def fun1(self):\n",
    "        print('Fire')"
   ]
  },
  {
   "cell_type": "code",
   "execution_count": 45,
   "metadata": {},
   "outputs": [
    {
     "name": "stdout",
     "output_type": "stream",
     "text": [
      "Fire\n"
     ]
    }
   ],
   "source": [
    "eng = Engine_L()\n",
    "eng.reset()\n",
    "eng.run()"
   ]
  },
  {
   "cell_type": "markdown",
   "metadata": {},
   "source": [
    "#### W (Wildcard Field Constraint):"
   ]
  },
  {
   "cell_type": "markdown",
   "metadata": {},
   "source": [
    "This element matches with any value.\n"
   ]
  },
  {
   "cell_type": "code",
   "execution_count": 46,
   "metadata": {},
   "outputs": [],
   "source": [
    "class Engine_W(KnowledgeEngine):\n",
    "    @DefFacts()\n",
    "    def _init(self):\n",
    "        yield Fact(myKey = \"key\")\n",
    "        \n",
    "    @Rule(Fact(myKey = W()))\n",
    "    def fun1(self):\n",
    "        print('Fire')"
   ]
  },
  {
   "cell_type": "code",
   "execution_count": 47,
   "metadata": {},
   "outputs": [
    {
     "name": "stdout",
     "output_type": "stream",
     "text": [
      "Fire\n"
     ]
    }
   ],
   "source": [
    "eng = Engine_W()\n",
    "eng.reset()\n",
    "eng.run()"
   ]
  },
  {
   "cell_type": "markdown",
   "metadata": {},
   "source": [
    "#### P (Predicate Field Constraint):"
   ]
  },
  {
   "cell_type": "markdown",
   "metadata": {},
   "source": [
    "The match of this element is the result of applying the given callable to the fact-extracted value. If the callable returns True the FC will match in other case the FC will not match."
   ]
  },
  {
   "cell_type": "code",
   "execution_count": 66,
   "metadata": {},
   "outputs": [],
   "source": [
    "class Engine_P(KnowledgeEngine):\n",
    "    @DefFacts()\n",
    "    def _init(self):\n",
    "        yield Fact(2)\n",
    "        \n",
    "    @Rule(Fact(P(lambda x: x -2 )))\n",
    "    def fun1(self):\n",
    "        print('Fire')"
   ]
  },
  {
   "cell_type": "code",
   "execution_count": null,
   "metadata": {},
   "outputs": [],
   "source": []
  },
  {
   "cell_type": "code",
   "execution_count": 67,
   "metadata": {},
   "outputs": [],
   "source": [
    "eng = Engine_P()\n",
    "eng.reset()\n",
    "eng.run()"
   ]
  },
  {
   "cell_type": "markdown",
   "metadata": {},
   "source": [
    "#### Variable Binding: The << Operator"
   ]
  },
  {
   "cell_type": "markdown",
   "metadata": {},
   "source": [
    "Any Patterns and some FCs can be binded to a name using << operator."
   ]
  },
  {
   "cell_type": "code",
   "execution_count": 68,
   "metadata": {},
   "outputs": [],
   "source": [
    "class Engine_O(KnowledgeEngine):\n",
    "    @DefFacts()\n",
    "    def _init(self):\n",
    "        yield Fact(50)\n",
    "        \n",
    "    @Rule(Fact('value'<<W()))\n",
    "    def fun1(self, value):\n",
    "        print(value)"
   ]
  },
  {
   "cell_type": "code",
   "execution_count": 69,
   "metadata": {},
   "outputs": [
    {
     "name": "stdout",
     "output_type": "stream",
     "text": [
      "50\n"
     ]
    }
   ],
   "source": [
    "eng = Engine_O()\n",
    "eng.reset()\n",
    "eng.run()"
   ]
  },
  {
   "cell_type": "code",
   "execution_count": null,
   "metadata": {},
   "outputs": [],
   "source": []
  }
 ],
 "metadata": {
  "kernelspec": {
   "display_name": "Python 3",
   "language": "python",
   "name": "python3"
  },
  "language_info": {
   "codemirror_mode": {
    "name": "ipython",
    "version": 3
   },
   "file_extension": ".py",
   "mimetype": "text/x-python",
   "name": "python",
   "nbconvert_exporter": "python",
   "pygments_lexer": "ipython3",
   "version": "3.6.5"
  }
 },
 "nbformat": 4,
 "nbformat_minor": 2
}
