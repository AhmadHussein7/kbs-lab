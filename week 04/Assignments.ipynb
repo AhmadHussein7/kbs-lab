{
 "cells": [
  {
   "cell_type": "markdown",
   "metadata": {},
   "source": [
    "## Loan assignment"
   ]
  },
  {
   "cell_type": "code",
   "execution_count": 8,
   "metadata": {},
   "outputs": [],
   "source": [
    "from experta import *"
   ]
  },
  {
   "cell_type": "code",
   "execution_count": 84,
   "metadata": {},
   "outputs": [],
   "source": [
    "class IncomeRange(Fact):\n",
    "    pass\n",
    "\n",
    "class CriminalRecord(Fact):\n",
    "    pass\n",
    "\n",
    "class JobYears(Fact):\n",
    "    pass\n",
    "\n",
    "class CridCardPayment(Fact):\n",
    "    pass\n",
    "\n",
    "\n",
    "\n",
    "class LoanOffer(KnowledgeEngine):\n",
    "    \n",
    "    @Rule(NOT(IncomeRange(W())))\n",
    "    def incomeRange(self):\n",
    "        self.declare(IncomeRange(input(\"Income Range of Applicant? \")))\n",
    "        \n",
    "    @Rule(IncomeRange(P(lambda x: int(x) < 30 )))\n",
    "    def lessThan30(self):\n",
    "        print('No Loan')\n",
    "        \n",
    "    @Rule(IncomeRange(P(lambda x: int(x) > 70 )))\n",
    "    def moreThan70(self):\n",
    "        self.declare(CriminalRecord(input(\"Criminal Record ( y/n )? \")))\n",
    "    \n",
    "    @Rule(CriminalRecord('value'<< W()))\n",
    "    def criminalRecord(self, value):\n",
    "        if value == 'y':\n",
    "            print('No Loan')\n",
    "        else:\n",
    "             print('Loan')   \n",
    "    \n",
    "    @Rule(AND(IncomeRange(P(lambda x: int(x) <= 70 ))), (IncomeRange(P(lambda x: int(x) >= 30 )) ))\n",
    "    def between30and70(self):\n",
    "        self.declare(JobYears(input(\"Years in present job? \")))\n",
    "    \n",
    "    @Rule(JobYears('value'<< W()))\n",
    "    def jobYears(self, value):\n",
    "        if int(value) < 1 :\n",
    "            print('No Loan')\n",
    "        elif int(value) > 5 :\n",
    "            print('Loan')\n",
    "        else:\n",
    "             self.declare(CridCardPayment(input(\"Make credit card payment ( y/n )? \")))\n",
    "    \n",
    "    @Rule(CridCardPayment('value'<< W()))\n",
    "    def cridCardPayment(self, value):\n",
    "        if value == 'y':\n",
    "            print('Loan')\n",
    "        else:\n",
    "             print('No Loan') "
   ]
  },
  {
   "cell_type": "code",
   "execution_count": 53,
   "metadata": {},
   "outputs": [
    {
     "name": "stdout",
     "output_type": "stream",
     "text": [
      "Income Range of Applicant? 55\n",
      "Years in present job? 4\n",
      "Make credit card payment ( y/n )? n\n",
      "No Loan\n"
     ]
    }
   ],
   "source": [
    "offer = LoanOffer()\n",
    "offer.reset()\n",
    "offer.run()"
   ]
  },
  {
   "cell_type": "markdown",
   "metadata": {},
   "source": [
    "# CORONAVIROUS "
   ]
  },
  {
   "cell_type": "markdown",
   "metadata": {},
   "source": [
    "Common symptoms :\n",
    "- Fever\n",
    "- Fatigue\n",
    "- Hard Cough\n",
    "\n",
    "Less Common symptoms :\n",
    "- Headache\n",
    "- Sore throat"
   ]
  },
  {
   "cell_type": "code",
   "execution_count": 79,
   "metadata": {},
   "outputs": [],
   "source": [
    "class Symptom(Fact):\n",
    "    pass\n",
    "\n",
    "\n",
    "class CORONAVIROUS(KnowledgeEngine):\n",
    "    cv_rate = 0\n",
    "    @Rule(NOT(Symptom(W())))\n",
    "    def fever(self):\n",
    "        self.declare(Symptom(Fever = input(\"Fever ( y/n )? \")))\n",
    "    \n",
    "    @Rule(Symptom(Fever = 'y'))\n",
    "    def fatigue(self):\n",
    "        self.cv_rate += 1\n",
    "        self.declare(Symptom(Fatigue = input(\"Fatigue ( y/n )? \")))\n",
    "        \n",
    "    @Rule(Symptom(Fatigue = 'y'))\n",
    "    def hardCough(self):\n",
    "        self.cv_rate += 1\n",
    "        self.declare(Symptom(HardCough = input(\"Hard Cough ( y/n )? \")))\n",
    "    \n",
    "    @Rule(Symptom(HardCough = 'y'))\n",
    "    def commonSymptoms(self):\n",
    "        self.cv_rate += 1\n",
    "        self.declare(Symptom(CommonSymptoms = \"y\"))\n",
    "    \n",
    "    @Rule(Symptom(CommonSymptoms = 'y'))\n",
    "    def headache(self):\n",
    "        self.declare(Symptom(Headache = input(\"Headache ( y/n )? \")))\n",
    "    \n",
    "    @Rule(Symptom(CommonSymptoms = 'y'), Symptom(Headache = 'value' << W()))\n",
    "    def sorethroat(self,value):\n",
    "        if value == 'y':\n",
    "            self.cv_rate += 0.5\n",
    "        self.declare(Symptom(SoreThroat = input(\"Sore throat ( y/n )? \")))\n",
    "    \n",
    "    @Rule(Symptom(CommonSymptoms = 'y'), Symptom(SoreThroat = 'value' << W()))\n",
    "    def final(self, value):\n",
    "        if value == 'y':\n",
    "            self.cv_rate += 0.3"
   ]
  },
  {
   "cell_type": "code",
   "execution_count": 80,
   "metadata": {},
   "outputs": [
    {
     "name": "stdout",
     "output_type": "stream",
     "text": [
      "Fever ( y/n )? y\n",
      "Fatigue ( y/n )? y\n",
      "Hard Cough ( y/n )? y\n",
      "Headache ( y/n )? y\n",
      "Sore throat ( y/n )? n\n",
      "3.5\n"
     ]
    }
   ],
   "source": [
    "CORONAVIROUS = CORONAVIROUS()\n",
    "CORONAVIROUS.reset()\n",
    "CORONAVIROUS.run()\n",
    "print(CORONAVIROUS.cv_rate)"
   ]
  },
  {
   "cell_type": "code",
   "execution_count": null,
   "metadata": {},
   "outputs": [],
   "source": []
  }
 ],
 "metadata": {
  "kernelspec": {
   "display_name": "Python 3.6.5 64-bit",
   "language": "python",
   "name": "python36564bit065f8efa692748c99a07df65bcb61dad"
  },
  "language_info": {
   "codemirror_mode": {
    "name": "ipython",
    "version": 3
   },
   "file_extension": ".py",
   "mimetype": "text/x-python",
   "name": "python",
   "nbconvert_exporter": "python",
   "pygments_lexer": "ipython3",
   "version": "3.6.5"
  }
 },
 "nbformat": 4,
 "nbformat_minor": 4
}
