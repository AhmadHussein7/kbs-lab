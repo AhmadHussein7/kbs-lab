{
 "cells": [
  {
   "cell_type": "markdown",
   "metadata": {
    "slideshow": {
     "slide_type": "slide"
    }
   },
   "source": [
    "# What is Experta?"
   ]
  },
  {
   "cell_type": "markdown",
   "metadata": {
    "slideshow": {
     "slide_type": "subslide"
    }
   },
   "source": [
    "Experta is a python library to build knowledge-based systems."
   ]
  },
  {
   "cell_type": "markdown",
   "metadata": {},
   "source": [
    "## The Basics"
   ]
  },
  {
   "cell_type": "markdown",
   "metadata": {},
   "source": [
    "- Facts\n",
    "- DefFacts\n",
    "- Rules\n",
    "- Knowledge Engine"
   ]
  },
  {
   "cell_type": "markdown",
   "metadata": {},
   "source": [
    "## Facts"
   ]
  },
  {
   "cell_type": "markdown",
   "metadata": {},
   "source": [
    "Facts are the basic unit of information of Experta. They are used by the system to reason about the problem."
   ]
  },
  {
   "cell_type": "markdown",
   "metadata": {},
   "source": [
    "#### Let's enumerate some facts about Facts:"
   ]
  },
  {
   "cell_type": "markdown",
   "metadata": {},
   "source": [
    "- The class Fact is a subclass of dict."
   ]
  },
  {
   "cell_type": "code",
   "execution_count": 1,
   "metadata": {},
   "outputs": [],
   "source": [
    "from experta import *"
   ]
  },
  {
   "cell_type": "code",
   "execution_count": 2,
   "metadata": {},
   "outputs": [
    {
     "name": "stdout",
     "output_type": "stream",
     "text": [
      "1\n"
     ]
    }
   ],
   "source": [
    "f = Fact( a=1, b=2 )\n",
    "print(f['a'])"
   ]
  },
  {
   "cell_type": "markdown",
   "metadata": {},
   "source": [
    "- Therefore a Fact does not maintain an internal order of items."
   ]
  },
  {
   "cell_type": "code",
   "execution_count": 3,
   "metadata": {},
   "outputs": [],
   "source": [
    "f = Fact( a=1, b=2 ) # Order is arbitrary\n",
    "f = Fact( b=2, a=1 )"
   ]
  },
  {
   "cell_type": "markdown",
   "metadata": {},
   "source": [
    "- In contrast to dict, you can create a Fact without keys (only values), and Fact will create a numeric index for your values."
   ]
  },
  {
   "cell_type": "code",
   "execution_count": 4,
   "metadata": {},
   "outputs": [
    {
     "name": "stdout",
     "output_type": "stream",
     "text": [
      "x\n"
     ]
    }
   ],
   "source": [
    "f = Fact('x', 'y', 'z')\n",
    "print(f[0])"
   ]
  },
  {
   "cell_type": "markdown",
   "metadata": {},
   "source": [
    "- You can mix autonumeric values with key-values, but autonumeric must be declared first."
   ]
  },
  {
   "cell_type": "code",
   "execution_count": 5,
   "metadata": {},
   "outputs": [
    {
     "name": "stdout",
     "output_type": "stream",
     "text": [
      "x\n",
      "1\n"
     ]
    }
   ],
   "source": [
    "f = Fact('x', 'y', 'z', a=1, b=2)\n",
    "print(f[0])\n",
    "print(f['a'])"
   ]
  },
  {
   "cell_type": "markdown",
   "metadata": {},
   "source": [
    "- You can subclass Fact to express different kinds of data or extend it with your custom functionality."
   ]
  },
  {
   "cell_type": "code",
   "execution_count": 6,
   "metadata": {},
   "outputs": [
    {
     "name": "stdout",
     "output_type": "stream",
     "text": [
      "red\n",
      "critical\n"
     ]
    }
   ],
   "source": [
    "class Alert(Fact):\n",
    "    pass\n",
    "\n",
    "class Status(Fact):\n",
    "    pass\n",
    "\n",
    "f1 = Alert(color = 'red')\n",
    "f2 = Status(state = 'critical')\n",
    "\n",
    "print(f1['color'])\n",
    "print(f2['state'])"
   ]
  },
  {
   "cell_type": "markdown",
   "metadata": {},
   "source": [
    "## DefFacts"
   ]
  },
  {
   "cell_type": "markdown",
   "metadata": {},
   "source": [
    "- Most of the time expert systems needs a set of facts to be present for the system to work. This is the purpose of the DefFacts decorator."
   ]
  },
  {
   "cell_type": "code",
   "execution_count": 7,
   "metadata": {},
   "outputs": [],
   "source": [
    "@DefFacts()\n",
    "def neededData():\n",
    "    yield Fact(bestColor = 'red')\n",
    "    yield Fact(bestBody = 'medium')\n",
    "    yield Fact(bestSweetness = 'dry')"
   ]
  },
  {
   "cell_type": "markdown",
   "metadata": {},
   "source": [
    "- All DefFacts inside a knowledgeEngine will be called every time the reset method is called."
   ]
  },
  {
   "cell_type": "markdown",
   "metadata": {},
   "source": [
    "## Rules"
   ]
  },
  {
   "cell_type": "markdown",
   "metadata": {},
   "source": [
    "- In Experta a rule is a callable, decorated with Rule.\n",
    "\n"
   ]
  },
  {
   "cell_type": "markdown",
   "metadata": {},
   "source": [
    "- Rules have two component, LHS (left-hand-side) and RHS (right-hand-side) :\n",
    "    - The LHS describes (using patterns) the conditions on which the rule X should be executed (or fired).\n",
    "    - The RHS is the set of actions to perform when the rule is fired.\n",
    "    "
   ]
  },
  {
   "cell_type": "markdown",
   "metadata": {},
   "source": [
    "- For a Fact to match a Pattern, all pettern restrictions must be True when the fact is evaluated against it."
   ]
  },
  {
   "cell_type": "markdown",
   "metadata": {},
   "source": [
    "#### Examples:"
   ]
  },
  {
   "cell_type": "markdown",
   "metadata": {},
   "source": [
    "- This rule will match with every instance of \"MyFact\"."
   ]
  },
  {
   "cell_type": "code",
   "execution_count": 8,
   "metadata": {},
   "outputs": [],
   "source": [
    "class MyFact(Fact):\n",
    "    pass\n",
    "\n",
    "@Rule(MyFact()) # This is the LHS\n",
    "def matchWithEveryMyFact():\n",
    "    # This is the RHS\n",
    "    pass"
   ]
  },
  {
   "cell_type": "markdown",
   "metadata": {},
   "source": [
    "- This rule will match with every instance of \"MyFact\" wich:\n",
    "    - f[0] == 'animal'\n",
    "    - f['family'] == 'felinae'"
   ]
  },
  {
   "cell_type": "code",
   "execution_count": 9,
   "metadata": {},
   "outputs": [],
   "source": [
    "class MyFact(Fact):\n",
    "    pass\n",
    "\n",
    "@Rule(MyFact('animal', family='felinae'))\n",
    "def matchWithCats():\n",
    "    print('Meow!')"
   ]
  },
  {
   "cell_type": "markdown",
   "metadata": {},
   "source": [
    "## KnowledgeEngine"
   ]
  },
  {
   "cell_type": "markdown",
   "metadata": {},
   "source": [
    "- This is the place where the magic happens."
   ]
  },
  {
   "cell_type": "markdown",
   "metadata": {},
   "source": [
    "- The first step is to make a subclass of it and use Rule to decorate its methods."
   ]
  },
  {
   "cell_type": "markdown",
   "metadata": {},
   "source": [
    "- After that, you can instantiate it, populate it with facts, and finally run it.\n"
   ]
  },
  {
   "cell_type": "code",
   "execution_count": 10,
   "metadata": {},
   "outputs": [],
   "source": [
    "class Greetings(KnowledgeEngine):\n",
    "    @DefFacts()\n",
    "    def _init_action(self):\n",
    "        yield Fact(action = 'greet')\n",
    "        \n",
    "    @Rule(Fact(action = 'greet'), NOT(Fact(name = W())))\n",
    "    def ask_name(self):\n",
    "        self.declare(Fact(name = input(\"What's your name? \")))\n",
    "        \n",
    "    @Rule(Fact(action = 'greet'),Fact(name = W()), NOT(Fact(location = W())))\n",
    "    def ask_location(self):\n",
    "        self.declare(Fact(location = input(\"Where are your? \")))\n",
    "        \n",
    "    @Rule(Fact(action = 'greet'), Fact(name =\"a\"<< W()), Fact(location =\"b\"<< W()))\n",
    "    def greet(self, a, b):\n",
    "        print(\"Hi %s! How is the weather in %s?\" % (a, b))\n",
    "        "
   ]
  },
  {
   "cell_type": "code",
   "execution_count": 12,
   "metadata": {},
   "outputs": [
    {
     "name": "stdout",
     "output_type": "stream",
     "text": [
      "What's your name? ahmad\n",
      "Where are your? Damascus\n",
      "Hi ahmad! How is the weather in Damascus?\n"
     ]
    }
   ],
   "source": [
    "engine = Greetings()\n",
    "engine.reset() # Prepare the engine for the execution\n",
    "engine.run() # Run it"
   ]
  },
  {
   "cell_type": "code",
   "execution_count": null,
   "metadata": {},
   "outputs": [],
   "source": []
  }
 ],
 "metadata": {
  "kernelspec": {
   "display_name": "Python 3.6.5 64-bit",
   "language": "python",
   "name": "python36564bit065f8efa692748c99a07df65bcb61dad"
  },
  "language_info": {
   "codemirror_mode": {
    "name": "ipython",
    "version": 3
   },
   "file_extension": ".py",
   "mimetype": "text/x-python",
   "name": "python",
   "nbconvert_exporter": "python",
   "pygments_lexer": "ipython3",
   "version": "3.6.5"
  }
 },
 "nbformat": 4,
 "nbformat_minor": 4
}
