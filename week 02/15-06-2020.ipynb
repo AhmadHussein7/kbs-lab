{
 "cells": [
  {
   "cell_type": "code",
   "execution_count": 1,
   "metadata": {},
   "outputs": [],
   "source": [
    "from experta import *"
   ]
  },
  {
   "cell_type": "code",
   "execution_count": 9,
   "metadata": {},
   "outputs": [],
   "source": [
    "class Test(KnowledgeEngine):\n",
    "    @DefFacts()\n",
    "    def _init(self):\n",
    "        yield Fact(a = 1)\n",
    "    \n",
    "    @Rule(Fact(a = 1))\n",
    "    def a1(self):\n",
    "        self.declare(Fact(a =2))\n",
    "        \n",
    "    @Rule(Fact(a = 2 ))\n",
    "    def a2(self):\n",
    "        print('fire a2')\n",
    "        "
   ]
  },
  {
   "cell_type": "code",
   "execution_count": 10,
   "metadata": {},
   "outputs": [
    {
     "name": "stdout",
     "output_type": "stream",
     "text": [
      "fire a2\n"
     ]
    }
   ],
   "source": [
    "engine = Test()\n",
    "engine.reset()\n",
    "engine.run()"
   ]
  },
  {
   "cell_type": "code",
   "execution_count": null,
   "metadata": {},
   "outputs": [],
   "source": []
  }
 ],
 "metadata": {
  "kernelspec": {
   "display_name": "Python 3.6.5 64-bit",
   "language": "python",
   "name": "python36564bit065f8efa692748c99a07df65bcb61dad"
  },
  "language_info": {
   "codemirror_mode": {
    "name": "ipython",
    "version": 3
   },
   "file_extension": ".py",
   "mimetype": "text/x-python",
   "name": "python",
   "nbconvert_exporter": "python",
   "pygments_lexer": "ipython3",
   "version": "3.6.5"
  }
 },
 "nbformat": 4,
 "nbformat_minor": 4
}
